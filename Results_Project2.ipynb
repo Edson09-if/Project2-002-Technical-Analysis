{
 "cells": [
  {
   "cell_type": "markdown",
   "metadata": {},
   "source": [
    "# Project 2\n",
    "\n",
    "## 002 Technical Analysis\n",
    "\n",
    "<img style=\"float: right; margin: 10px 0 10px 15px;\" \n",
    " src=\"https://upload.wikimedia.org/wikipedia/commons/d/db/Logo_ITESO_normal.jpg\" \n",
    " title=\"ITESO Logo\" width=\"180\" height=\"100\">\n",
    "\n",
    "---\n",
    "\n",
    "**Team Members:**\n",
    "\n",
    "- **Rania Aguirre**\n",
    "- **Ramón Castañeda**\n",
    "- **Edson Oronia**\n",
    "\n",
    "---"
   ]
  },
  {
   "cell_type": "markdown",
   "metadata": {},
   "source": [
    "<p style=\"text-align:center; color:blue; font-size:24px;\"> Apple 5 Min VS Passive Strategy</p>\n"
   ]
  },
  {
   "cell_type": "markdown",
   "metadata": {},
   "source": [
    "![Modelo_Proceso](plots/APPL.png)"
   ]
  },
  {
   "cell_type": "markdown",
   "metadata": {},
   "source": [
    "### Backtest Parameters\n",
    "- Indicators: `['RSI', 'BOLL']`\n",
    "- stop-loss (sl): 0.038\n",
    "- take-profit (tp): 0.056\n",
    "- **RSI**:\n",
    "  - RSI Window (rsi_window): 44\n",
    "  - RSI Lower Bound (rsi_lower): 31\n",
    "  - RSI Upper Bound (rsi_upper): 76\n",
    "- **Bollinger Bands:**\n",
    "  - Bollinger Window (boll_wind): 23\n",
    "  - Bollinger Deviation (boll_wind_dev): 2\n",
    "- **MACD: *(not used)***\n",
    "  - MACD Slow Window (window_slo_macd): 0\n",
    "  - MACD Fast Window (window_fast_macd): 0\n",
    "  - MACD Signal (win_sig_macd): 0\n",
    "- **ADX**:\n",
    "  - ADX Window (adx_window): 1\n",
    "- **SMA: *(not used)***\n",
    "  - Short SMA Window (short_sma_wind): 0\n",
    "  - Long SMA Window (long_sma_wind): 0\n",
    "- **Number of shares (n_shares)**: 119\n",
    "- **Portfolio Value**: $838467.3045203\n",
    "- **Sharp**: 0.0174\n"
   ]
  },
  {
   "cell_type": "markdown",
   "metadata": {},
   "source": [
    "#### Conclusion:"
   ]
  },
  {
   "cell_type": "markdown",
   "metadata": {},
   "source": [
    "For the AAPL ticker we can conclude that the optimization strategy resulted in a portfolio that was too conservative and failed to capture large market gains reflected in the passive strategy. It may have occurred that the market conditions for our trained data favored the RSI-Bollinger combination, but when tested on the test data it abysmally failed.\n",
    "\n",
    "Surely the predefined parameters or even the selected indicators were not good combinations given that the biggest drops in the portfolio value occurred during the share's steepest rises; which suggests that the strategy poorly decided to short it when instead of going down it was starting to go up.\n",
    "\n",
    "One area of opportunity we found after reviewing both scenarios is that we could work more scenarios with optuna for each of the combinations. In this case we did 3 trials for each of the 31 combinations. Most of the results we found indicated losses for each portfolio.\n",
    "\n"
   ]
  },
  {
   "cell_type": "markdown",
   "metadata": {},
   "source": [
    "<p style=\"text-align:center; color:blue; font-size:24px;\"> Bitcoin 5 Min VS Passive Strategy</p>"
   ]
  },
  {
   "cell_type": "markdown",
   "metadata": {},
   "source": [
    "![Modelo_Proceso](plots/BTC.png) "
   ]
  },
  {
   "cell_type": "markdown",
   "metadata": {},
   "source": [
    "### Backtest Parameters\n",
    "- **Indicators**: `['RSI', 'MACD', 'SMA']`\n",
    "- **Stop-Loss (sl)**: 0.042\n",
    "- **Take-Profit (tp)**: 0.034\n",
    "- **RSI**:\n",
    "  - RSI Window (rsi_window): 14\n",
    "  - RSI Lower Bound (rsi_lower): 30\n",
    "  - RSI Upper Bound (rsi_upper): 69\n",
    "- **Bollinger Bands**:\n",
    "  - Bollinger Window (boll_wind): 0\n",
    "  - Bollinger Deviation (boll_wind_dev): 0\n",
    "- **MACD**:\n",
    "  - MACD Slow Window (window_slo_macd): 21\n",
    "  - MACD Fast Window (window_fast_macd): 12\n",
    "  - MACD Signal (win_sig_macd): 8\n",
    "- **ADX**:\n",
    "  - ADX Window (adx_window): 29\n",
    "- **SMA**:\n",
    "  - Short SMA Window (short_sma_wind): 0\n",
    "  - Long SMA Window (long_sma_wind): 0\n",
    "- **Number of Shares (n_shares)**: 125\n",
    "- **Portfolio Value**: $1023452.192\n",
    "- **Sharp**: 0.0370\n"
   ]
  },
  {
   "cell_type": "markdown",
   "metadata": {},
   "source": [
    "#### Conclusion:"
   ]
  },
  {
   "cell_type": "markdown",
   "metadata": {},
   "source": [
    "Throughout the entire backtest of Bitcoin that was done, it is evident as shown by the flat blue line that no trades were performed by the optimized strategy. This means that there was no use in the combination of RSI, MACD and ADX, as well as the stop-loss and take-profit levels employed, which are rather tight as well, because there were no trades taken.\n",
    "\n",
    "The stop-loss of 4.2% and take-profit of 3.4% are relatively tight. These levels might have prevented trades from being executed, especially in a volatile asset like Bitcoin, where price movements are often larger.\n",
    "\n",
    "One area of opportunity we found after reviewing both scenarios is that we could work more scenarios with optuna for each of the combinations. In this case we did 3 trials for each of the 31 combinations. Most of the results we found indicated losses for each portfolio."
   ]
  },
  {
   "cell_type": "code",
   "execution_count": null,
   "metadata": {},
   "outputs": [],
   "source": []
  }
 ],
 "metadata": {
  "kernelspec": {
   "display_name": "Python 3",
   "language": "python",
   "name": "python3"
  },
  "language_info": {
   "codemirror_mode": {
    "name": "ipython",
    "version": 3
   },
   "file_extension": ".py",
   "mimetype": "text/x-python",
   "name": "python",
   "nbconvert_exporter": "python",
   "pygments_lexer": "ipython3",
   "version": "3.8.3"
  }
 },
 "nbformat": 4,
 "nbformat_minor": 4
}
